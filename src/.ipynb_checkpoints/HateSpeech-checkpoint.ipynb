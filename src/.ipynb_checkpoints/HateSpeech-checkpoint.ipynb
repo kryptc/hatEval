{
 "cells": [
  {
   "cell_type": "code",
   "execution_count": 119,
   "metadata": {},
   "outputs": [],
   "source": [
    "import csv\n",
    "import nltk\n",
    "import re\n",
    "import numpy as np\n",
    "import pandas as pd\n",
    "from nltk.tokenize import TweetTokenizer\n",
    "from nltk.corpus import stopwords\n",
    "\n",
    "from sklearn.feature_extraction.text import CountVectorizer\n",
    "from sklearn.linear_model import LogisticRegression\n",
    "from sklearn.svm import SVC\n",
    "from sklearn.model_selection import cross_val_score, train_test_split\n",
    "from sklearn.metrics import make_scorer, accuracy_score, f1_score, precision_score, recall_score\n",
    "\n",
    "\n",
    "DATA_PATH=\"../data/\"\n",
    "TRAIN_DATA = DATA_PATH + \"train_en.tsv\"\n",
    "TEST_DATA = DATA_PATH + \"dev_en.tsv\""
   ]
  },
  {
   "cell_type": "code",
   "execution_count": 120,
   "metadata": {},
   "outputs": [],
   "source": [
    "def readData(path):\n",
    "    data = []\n",
    "    with open(path,'r') as file:\n",
    "        data = [x for x in csv.reader(file, delimiter='\\t')]\n",
    "    return data\n",
    "\n",
    "def getTweets(raw):\n",
    "    data = [x[1] for x in raw if x[2] == '1']\n",
    "    return np.array(data)\n",
    "\n",
    "def getTarget(raw):\n",
    "    classes = [x[3] for x in raw if x[2] == '1']\n",
    "    return np.array(classes)\n",
    "\n",
    "def getAggression(raw):\n",
    "    classes = [x[4] for x in raw if x[2] == '1']\n",
    "    return classes\n",
    "\n",
    "def removePattern(tweet, pattern):\n",
    "    r = re.findall(pattern, tweet)\n",
    "    for x in r:\n",
    "        tweet = re.sub(x, '', tweet)\n",
    "    return tweet\n",
    "\n",
    "def preprocess(data):\n",
    "    cleanData = []\n",
    "    for tweet in data:\n",
    "        tweet = removePattern(tweet, \"@[\\w]*\")\n",
    "        tweet = tweet.replace(\"#\", \"\") # Removing '#' from hashtags\n",
    "        tweet = re.sub(r'[^a-zA-Z]', \" \", tweet) # Removing punctuation and special characters\n",
    "        tweet = re.sub(r'http[s]?://(?:[a-z]|[0-9]|[$-_@.&amp;+]|[!*\\(\\),]|(?:%[0-9a-f][0-9a-f]))+',\"<URL>\", tweet)\n",
    "        tweet = re.sub(\" +\", \" \", tweet)\n",
    "        tweet = tweet.lower()\n",
    "        cleanData.append(tweet)\n",
    "    return cleanData\n",
    "\n",
    "def tokenize(text):\n",
    "    return TweetTokenizer.tokenize(text)\n",
    "\n",
    "def evaluate(target, predicted):\n",
    "    f1 = f1_score(target, predicted, average='weighted')\n",
    "    acc = accuracy_score(target, predicted)\n",
    "    rec = recall_score(target, predicted, average = 'macro')\n",
    "    print(\"F1 score:   \", f1)\n",
    "    print(\"Avg Recall: \", rec)    \n",
    "    print(\"Accuracy:   \", acc)"
   ]
  },
  {
   "cell_type": "code",
   "execution_count": 121,
   "metadata": {},
   "outputs": [],
   "source": [
    "en_stopwords = set(stopwords.words(\"english\")) \n",
    "\n",
    "raw_train = readData(TRAIN_DATA) \n",
    "train_tweets = getTweets(raw_train)\n",
    "aggression_classes_train = getAggression(raw_train)\n",
    "target_classes_train = getTarget(raw_train)\n",
    "tweets = preprocess(tweets)\n",
    "X_train = train_tweets\n",
    "Y_train_target = target_classes_train\n",
    "Y_train_aggression = aggression_classes_train\n",
    "\n",
    "raw_test = readData(TEST_DATA)\n",
    "test_tweets = getTweets(raw_test)\n",
    "Y_test_aggression = getAggression(raw_test)\n",
    "Y_test_target = getTarget(raw_test)\n",
    "\n"
   ]
  },
  {
   "cell_type": "code",
   "execution_count": 122,
   "metadata": {},
   "outputs": [
    {
     "name": "stdout",
     "output_type": "stream",
     "text": [
      "3783\n",
      "3783\n",
      "3783\n"
     ]
    }
   ],
   "source": [
    "print(len(train_tweets))\n",
    "print(len(Y_train_aggression))\n",
    "print(len(Y_train_target))"
   ]
  },
  {
   "cell_type": "code",
   "execution_count": 123,
   "metadata": {},
   "outputs": [],
   "source": [
    "vectorizer = CountVectorizer(\n",
    "    analyzer = 'word',\n",
    "    lowercase = True,\n",
    "    ngram_range=(1, 1),\n",
    "    stop_words = en_stopwords)\n",
    "vectorizer.fit(train_tweets)\n",
    "train_features = vectorizer.transform(train_tweets)\n",
    "test_features = vectorizer.transform(test_tweets)"
   ]
  },
  {
   "cell_type": "code",
   "execution_count": 124,
   "metadata": {
    "scrolled": true
   },
   "outputs": [],
   "source": [
    "classifier = LogisticRegression(C=0.1, solver='sag')"
   ]
  },
  {
   "cell_type": "code",
   "execution_count": 114,
   "metadata": {},
   "outputs": [],
   "source": [
    "classifier = SVC(C = 0.1)"
   ]
  },
  {
   "cell_type": "code",
   "execution_count": 125,
   "metadata": {},
   "outputs": [
    {
     "name": "stdout",
     "output_type": "stream",
     "text": [
      "F1 score:    0.8966860617400402\n",
      "Avg Recall:  0.8985774499473129\n",
      "Accuracy:    0.8969555035128806\n"
     ]
    }
   ],
   "source": [
    "classifier.fit(train_features, Y_train_target)\n",
    "y_predict = classifier.predict(test_features)\n",
    "evaluate(Y_test_target, y_predict)"
   ]
  },
  {
   "cell_type": "code",
   "execution_count": 126,
   "metadata": {},
   "outputs": [
    {
     "name": "stdout",
     "output_type": "stream",
     "text": [
      "F1 score:    0.6605751244372501\n",
      "Avg Recall:  0.6593796711509716\n",
      "Accuracy:    0.6627634660421545\n"
     ]
    }
   ],
   "source": [
    "classifier.fit(train_features, Y_train_aggression)\n",
    "y_predict = classifier.predict(test_features)\n",
    "evaluate(Y_test_aggression, y_predict)"
   ]
  },
  {
   "cell_type": "code",
   "execution_count": null,
   "metadata": {},
   "outputs": [],
   "source": []
  }
 ],
 "metadata": {
  "kernelspec": {
   "display_name": "Python 3",
   "language": "python",
   "name": "python3"
  },
  "language_info": {
   "codemirror_mode": {
    "name": "ipython",
    "version": 3
   },
   "file_extension": ".py",
   "mimetype": "text/x-python",
   "name": "python",
   "nbconvert_exporter": "python",
   "pygments_lexer": "ipython3",
   "version": "3.6.8"
  }
 },
 "nbformat": 4,
 "nbformat_minor": 2
}
