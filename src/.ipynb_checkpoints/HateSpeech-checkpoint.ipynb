{
 "cells": [
  {
   "cell_type": "code",
   "execution_count": 78,
   "metadata": {},
   "outputs": [],
   "source": [
    "import csv\n",
    "import nltk\n",
    "import re\n",
    "import numpy as np\n",
    "import pandas as pd\n",
    "from nltk.tokenize import TweetTokenizer\n",
    "from nltk.corpus import stopwords\n",
    "\n",
    "from sklearn.feature_extraction.text import CountVectorizer\n",
    "from sklearn.linear_model import LogisticRegression\n",
    "from sklearn.svm import SVC\n",
    "from sklearn.model_selection import cross_val_score, train_test_split\n",
    "from sklearn.metrics import make_scorer, accuracy_score, f1_score, precision_score, recall_score\n",
    "\n",
    "\n",
    "DATA_PATH=\"../data/\"\n",
    "TRAIN_DATA = DATA_PATH + \"train_en.tsv\"\n",
    "TEST_DATA = DATA_PATH + \"dev_en.tsv\""
   ]
  },
  {
   "cell_type": "code",
   "execution_count": 79,
   "metadata": {},
   "outputs": [],
   "source": [
    "def readData(path):\n",
    "    data = []\n",
    "    with open(path,'r') as file:\n",
    "        data = [x for x in csv.reader(file, delimiter='\\t')]\n",
    "    return data\n",
    "\n",
    "def getTweets(raw):\n",
    "    data = [x[1] for x in raw if x[2] == '1']\n",
    "    return np.array(data)\n",
    "\n",
    "def getTarget(raw):\n",
    "    classes = [x[3] for x in raw if x[2] == '1']\n",
    "    return np.array(classes)\n",
    "\n",
    "def getAggression(raw):\n",
    "    classes = [x[4] for x in raw if x[2] == '1']\n",
    "    return classes\n",
    "\n",
    "def removePattern(tweet, pattern):\n",
    "    r = re.findall(pattern, tweet)\n",
    "    for x in r:\n",
    "        tweet = re.sub(x, '', tweet)\n",
    "    return tweet\n",
    "\n",
    "def preprocess(data, removeMention):\n",
    "    cleanData = []\n",
    "    for tweet in data:\n",
    "        if removeMention:\n",
    "            tweet = removePattern(tweet, \"@[\\w]*\")\n",
    "        tweet = tweet.replace(\"#\", \"\") # Removing '#' from hashtags\n",
    "        tweet = re.sub(r'[^a-zA-Z]', \" \", tweet) # Removing punctuation and special characters\n",
    "        tweet = re.sub(r'http[s]?://(?:[a-z]|[0-9]|[$-_@.&amp;+]|[!*\\(\\),]|(?:%[0-9a-f][0-9a-f]))+',\"<URL>\", tweet)\n",
    "        tweet = re.sub(\" +\", \" \", tweet)\n",
    "        tweet = tweet.lower()\n",
    "        cleanData.append(tweet)\n",
    "    return cleanData\n",
    "\n",
    "def tokenize(text):\n",
    "    return TweetTokenizer.tokenize(text)\n",
    "\n",
    "def evaluate(target, predicted):\n",
    "    f1 = f1_score(target, predicted, average='weighted')\n",
    "    acc = accuracy_score(target, predicted)\n",
    "    rec = recall_score(target, predicted, average = 'macro')\n",
    "    print(\"F1 score:   \", f1)\n",
    "    print(\"Avg Recall: \", rec)    \n",
    "    print(\"Accuracy:   \", acc)"
   ]
  },
  {
   "cell_type": "code",
   "execution_count": 80,
   "metadata": {},
   "outputs": [],
   "source": [
    "en_stopwords = set(stopwords.words(\"english\")) \n",
    "\n",
    "raw_train = readData(TRAIN_DATA) \n",
    "train_tweets_dirty = getTweets(raw_train)\n",
    "train_tweets = preprocess(train_tweets_dirty, True)\n",
    "train_tweets_with_mentions = preprocess(train_tweets_dirty, False)\n",
    "Y_train_aggression = getAggression(raw_train)\n",
    "Y_train_target = getTarget(raw_train)\n",
    "\n",
    "raw_test = readData(TEST_DATA)\n",
    "test_tweets_dirty = getTweets(raw_test)\n",
    "test_tweets = preprocess(test_tweets_dirty, True)\n",
    "test_tweets_with_mentions = preprocess(test_tweets_dirty, False)\n",
    "Y_test_aggression = getAggression(raw_test)\n",
    "Y_test_target = getTarget(raw_test)"
   ]
  },
  {
   "cell_type": "markdown",
   "metadata": {},
   "source": [
    "## Data Analysis"
   ]
  },
  {
   "cell_type": "code",
   "execution_count": 81,
   "metadata": {},
   "outputs": [],
   "source": [
    "# train_tweets_count = len(train_tweets)\n",
    "# test_tweets_count = len(test_tweets)\n",
    "# # print(\"total number of train tweets: %s\", train_tweets_count)\n",
    "\n",
    "# train_tweets_with_aggression = np.sum(Y_train_aggression)\n",
    "# test_tweets_with_aggression = np.sum(Y_test_aggression)\n",
    "\n",
    "\n",
    "# train_tweets_without_aggression = train_tweets_count - train_tweets_with_aggression\n",
    "# test_tweets_without_aggression = test_tweets_count - test_tweets_with_aggression\n",
    "\n"
   ]
  },
  {
   "cell_type": "markdown",
   "metadata": {},
   "source": [
    "## Embeddings Word  Level and Char  Level"
   ]
  },
  {
   "cell_type": "code",
   "execution_count": 82,
   "metadata": {},
   "outputs": [],
   "source": [
    "def embeddings(typ):\n",
    "    if typ == \"word\":\n",
    "        vectorizer = CountVectorizer(\n",
    "            analyzer = 'word',\n",
    "            lowercase = True,\n",
    "            ngram_range=(1, 3),\n",
    "            stop_words = en_stopwords)\n",
    "        vectorizer.fit(train_tweets)\n",
    "    else:\n",
    "        vectorizer = CountVectorizer(\n",
    "            analyzer = 'char',\n",
    "            tokenizer = tokenize,\n",
    "            lowercase = True,\n",
    "            ngram_range=(2, 6),\n",
    "            stop_words = en_stopwords)\n",
    "        vectorizer.fit(train_tweets)\n",
    "    return vectorizer\n"
   ]
  },
  {
   "cell_type": "markdown",
   "metadata": {},
   "source": [
    "## Classifier"
   ]
  },
  {
   "cell_type": "code",
   "execution_count": 83,
   "metadata": {
    "scrolled": true
   },
   "outputs": [],
   "source": [
    "def model(name, c, g):\n",
    "    if name == \"LR\":\n",
    "        classifier = LogisticRegression(C=c, solver='sag')\n",
    "    else:\n",
    "        classifier = SVC(C=c, gamma=g)\n",
    "    return classifier"
   ]
  },
  {
   "cell_type": "markdown",
   "metadata": {},
   "source": [
    "## Task Type"
   ]
  },
  {
   "cell_type": "code",
   "execution_count": 84,
   "metadata": {},
   "outputs": [],
   "source": [
    "def task_type(name):\n",
    "    if name == \"TC\":\n",
    "        classifier.fit(train_features, Y_train_target)\n",
    "        y_predict = classifier.predict(test_features)\n",
    "        evaluate(Y_test_target, y_predict)\n",
    "    else:\n",
    "        classifier.fit(train_features, Y_train_aggression)\n",
    "        y_predict = classifier.predict(test_features)\n",
    "        evaluate(Y_test_aggression, y_predict)"
   ]
  },
  {
   "cell_type": "markdown",
   "metadata": {},
   "source": [
    "# Task 1: Target Classification"
   ]
  },
  {
   "cell_type": "markdown",
   "metadata": {},
   "source": [
    "## Word Level and Logistic Regression"
   ]
  },
  {
   "cell_type": "code",
   "execution_count": 85,
   "metadata": {},
   "outputs": [
    {
     "name": "stdout",
     "output_type": "stream",
     "text": [
      "F1 score:    0.9062584314529618\n",
      "Avg Recall:  0.9073476466455919\n",
      "Accuracy:    0.9063231850117096\n"
     ]
    },
    {
     "name": "stderr",
     "output_type": "stream",
     "text": [
      "/home/sriven/.virtualenvs/ire-mini/lib/python3.7/site-packages/sklearn/linear_model/sag.py:337: ConvergenceWarning: The max_iter was reached which means the coef_ did not converge\n",
      "  \"the coef_ did not converge\", ConvergenceWarning)\n"
     ]
    }
   ],
   "source": [
    "vectorizer = embeddings(\"word\")\n",
    "train_features = vectorizer.transform(train_tweets)\n",
    "test_features = vectorizer.transform(test_tweets)\n",
    "classifier = model(\"LR\", 10, None)\n",
    "task_type(\"TC\")"
   ]
  },
  {
   "cell_type": "code",
   "execution_count": 86,
   "metadata": {},
   "outputs": [
    {
     "name": "stdout",
     "output_type": "stream",
     "text": [
      "F1 score:    0.906282077053579\n",
      "Avg Recall:  0.9072269055145767\n",
      "Accuracy:    0.9063231850117096\n"
     ]
    },
    {
     "name": "stderr",
     "output_type": "stream",
     "text": [
      "/home/sriven/.virtualenvs/ire-mini/lib/python3.7/site-packages/sklearn/linear_model/sag.py:337: ConvergenceWarning: The max_iter was reached which means the coef_ did not converge\n",
      "  \"the coef_ did not converge\", ConvergenceWarning)\n"
     ]
    }
   ],
   "source": [
    "vectorizer = embeddings(\"word\")\n",
    "train_features = vectorizer.transform(train_tweets_with_mentions)\n",
    "test_features = vectorizer.transform(test_tweets_with_mentions)\n",
    "classifier = model(\"LR\", 10, None)\n",
    "task_type(\"TC\")"
   ]
  },
  {
   "cell_type": "markdown",
   "metadata": {},
   "source": [
    "## Char Level and Logistic Regression"
   ]
  },
  {
   "cell_type": "code",
   "execution_count": 87,
   "metadata": {},
   "outputs": [
    {
     "name": "stdout",
     "output_type": "stream",
     "text": [
      "F1 score:    0.9063283228300912\n",
      "Avg Recall:  0.9068646821215314\n",
      "Accuracy:    0.9063231850117096\n"
     ]
    },
    {
     "name": "stderr",
     "output_type": "stream",
     "text": [
      "/home/sriven/.virtualenvs/ire-mini/lib/python3.7/site-packages/sklearn/linear_model/sag.py:337: ConvergenceWarning: The max_iter was reached which means the coef_ did not converge\n",
      "  \"the coef_ did not converge\", ConvergenceWarning)\n"
     ]
    }
   ],
   "source": [
    "vectorizer = embeddings(\"char\")\n",
    "train_features = vectorizer.transform(train_tweets)\n",
    "test_features = vectorizer.transform(test_tweets)\n",
    "classifier = model(\"LR\", 1, None)\n",
    "task_type(\"TC\")"
   ]
  },
  {
   "cell_type": "code",
   "execution_count": 88,
   "metadata": {},
   "outputs": [
    {
     "name": "stdout",
     "output_type": "stream",
     "text": [
      "F1 score:    0.9110187405010414\n",
      "Avg Recall:  0.9114308921671935\n",
      "Accuracy:    0.9110070257611241\n"
     ]
    },
    {
     "name": "stderr",
     "output_type": "stream",
     "text": [
      "/home/sriven/.virtualenvs/ire-mini/lib/python3.7/site-packages/sklearn/linear_model/sag.py:337: ConvergenceWarning: The max_iter was reached which means the coef_ did not converge\n",
      "  \"the coef_ did not converge\", ConvergenceWarning)\n"
     ]
    }
   ],
   "source": [
    "vectorizer = embeddings(\"char\")\n",
    "train_features = vectorizer.transform(train_tweets_with_mentions)\n",
    "test_features = vectorizer.transform(test_tweets_with_mentions)\n",
    "classifier = model(\"LR\", 1, None)\n",
    "task_type(\"TC\")"
   ]
  },
  {
   "cell_type": "markdown",
   "metadata": {},
   "source": [
    "## Word Level and SVM"
   ]
  },
  {
   "cell_type": "code",
   "execution_count": 89,
   "metadata": {},
   "outputs": [
    {
     "name": "stdout",
     "output_type": "stream",
     "text": [
      "F1 score:    0.9110206959568599\n",
      "Avg Recall:  0.9111894099051633\n",
      "Accuracy:    0.9110070257611241\n"
     ]
    }
   ],
   "source": [
    "vectorizer = embeddings(\"word\")\n",
    "train_features = vectorizer.transform(train_tweets)\n",
    "test_features = vectorizer.transform(test_tweets)\n",
    "classifier = model(\"SVM\", 10, 0.01)\n",
    "task_type(\"TC\")"
   ]
  },
  {
   "cell_type": "code",
   "execution_count": 90,
   "metadata": {},
   "outputs": [
    {
     "name": "stdout",
     "output_type": "stream",
     "text": [
      "F1 score:    0.9110158152871344\n",
      "Avg Recall:  0.9110686687741483\n",
      "Accuracy:    0.9110070257611241\n"
     ]
    }
   ],
   "source": [
    "vectorizer = embeddings(\"word\")\n",
    "train_features = vectorizer.transform(train_tweets_with_mentions)\n",
    "test_features = vectorizer.transform(test_tweets_with_mentions)\n",
    "classifier = model(\"SVM\", 10, 0.01)\n",
    "task_type(\"TC\")"
   ]
  },
  {
   "cell_type": "markdown",
   "metadata": {},
   "source": [
    "## Char Level and SVM"
   ]
  },
  {
   "cell_type": "code",
   "execution_count": 91,
   "metadata": {},
   "outputs": [
    {
     "name": "stdout",
     "output_type": "stream",
     "text": [
      "F1 score:    0.8825371874839769\n",
      "Avg Recall:  0.8846373375482964\n",
      "Accuracy:    0.882903981264637\n"
     ]
    }
   ],
   "source": [
    "vectorizer = embeddings(\"char\")\n",
    "train_features = vectorizer.transform(train_tweets)\n",
    "test_features = vectorizer.transform(test_tweets)\n",
    "classifier = model(\"SVM\", 100, 0.001)\n",
    "task_type(\"TC\")"
   ]
  },
  {
   "cell_type": "code",
   "execution_count": 92,
   "metadata": {},
   "outputs": [
    {
     "name": "stdout",
     "output_type": "stream",
     "text": [
      "F1 score:    0.9062306636852869\n",
      "Avg Recall:  0.907468387776607\n",
      "Accuracy:    0.9063231850117096\n"
     ]
    }
   ],
   "source": [
    "vectorizer = embeddings(\"char\")\n",
    "train_features = vectorizer.transform(train_tweets_with_mentions)\n",
    "test_features = vectorizer.transform(test_tweets_with_mentions)\n",
    "classifier = model(\"SVM\", 100, 0.001)\n",
    "task_type(\"TC\")"
   ]
  },
  {
   "cell_type": "markdown",
   "metadata": {},
   "source": [
    "# Task 2: Aggression Detection"
   ]
  },
  {
   "cell_type": "markdown",
   "metadata": {},
   "source": [
    "## Word Level and Logistic Regression"
   ]
  },
  {
   "cell_type": "markdown",
   "metadata": {},
   "source": [
    "Without Mentions"
   ]
  },
  {
   "cell_type": "code",
   "execution_count": 93,
   "metadata": {},
   "outputs": [
    {
     "name": "stderr",
     "output_type": "stream",
     "text": [
      "/home/sriven/.virtualenvs/ire-mini/lib/python3.7/site-packages/sklearn/linear_model/logistic.py:469: FutureWarning: Default multi_class will be changed to 'auto' in 0.22. Specify the multi_class option to silence this warning.\n",
      "  \"this warning.\", FutureWarning)\n",
      "/home/sriven/.virtualenvs/ire-mini/lib/python3.7/site-packages/sklearn/linear_model/sag.py:337: ConvergenceWarning: The max_iter was reached which means the coef_ did not converge\n",
      "  \"the coef_ did not converge\", ConvergenceWarning)\n"
     ]
    },
    {
     "name": "stdout",
     "output_type": "stream",
     "text": [
      "F1 score:    0.6808455581452934\n",
      "Avg Recall:  0.679613998065594\n",
      "Accuracy:    0.6814988290398126\n"
     ]
    }
   ],
   "source": [
    "vectorizer = embeddings(\"word\")\n",
    "train_features = vectorizer.transform(train_tweets)\n",
    "test_features = vectorizer.transform(test_tweets)\n",
    "classifier = model(\"LR\", 10, None)\n",
    "task_type(\"AD\")"
   ]
  },
  {
   "cell_type": "markdown",
   "metadata": {},
   "source": [
    "With Mentions"
   ]
  },
  {
   "cell_type": "code",
   "execution_count": 94,
   "metadata": {},
   "outputs": [
    {
     "name": "stderr",
     "output_type": "stream",
     "text": [
      "/home/sriven/.virtualenvs/ire-mini/lib/python3.7/site-packages/sklearn/linear_model/logistic.py:469: FutureWarning: Default multi_class will be changed to 'auto' in 0.22. Specify the multi_class option to silence this warning.\n",
      "  \"this warning.\", FutureWarning)\n",
      "/home/sriven/.virtualenvs/ire-mini/lib/python3.7/site-packages/sklearn/linear_model/sag.py:337: ConvergenceWarning: The max_iter was reached which means the coef_ did not converge\n",
      "  \"the coef_ did not converge\", ConvergenceWarning)\n"
     ]
    },
    {
     "name": "stdout",
     "output_type": "stream",
     "text": [
      "F1 score:    0.6664190053283398\n",
      "Avg Recall:  0.6651169436384419\n",
      "Accuracy:    0.667447306791569\n"
     ]
    }
   ],
   "source": [
    "vectorizer = embeddings(\"word\")\n",
    "train_features = vectorizer.transform(train_tweets_with_mentions)\n",
    "test_features = vectorizer.transform(test_tweets_with_mentions)\n",
    "classifier = model(\"LR\", 10, None)\n",
    "task_type(\"AD\")"
   ]
  },
  {
   "cell_type": "markdown",
   "metadata": {},
   "source": [
    "## Char Level and Logistic Regression"
   ]
  },
  {
   "cell_type": "markdown",
   "metadata": {},
   "source": [
    "Without Mentions"
   ]
  },
  {
   "cell_type": "code",
   "execution_count": 95,
   "metadata": {
    "scrolled": true
   },
   "outputs": [
    {
     "name": "stderr",
     "output_type": "stream",
     "text": [
      "/home/sriven/.virtualenvs/ire-mini/lib/python3.7/site-packages/sklearn/linear_model/logistic.py:469: FutureWarning: Default multi_class will be changed to 'auto' in 0.22. Specify the multi_class option to silence this warning.\n",
      "  \"this warning.\", FutureWarning)\n",
      "/home/sriven/.virtualenvs/ire-mini/lib/python3.7/site-packages/sklearn/linear_model/sag.py:337: ConvergenceWarning: The max_iter was reached which means the coef_ did not converge\n",
      "  \"the coef_ did not converge\", ConvergenceWarning)\n"
     ]
    },
    {
     "name": "stdout",
     "output_type": "stream",
     "text": [
      "F1 score:    0.6737261541309245\n",
      "Avg Recall:  0.6724698848149124\n",
      "Accuracy:    0.6744730679156908\n"
     ]
    }
   ],
   "source": [
    "vectorizer = embeddings(\"char\")\n",
    "train_features = vectorizer.transform(train_tweets)\n",
    "test_features = vectorizer.transform(test_tweets)\n",
    "classifier = model(\"LR\", 0.1, None)\n",
    "task_type(\"AD\")"
   ]
  },
  {
   "cell_type": "markdown",
   "metadata": {},
   "source": [
    "With Mentions"
   ]
  },
  {
   "cell_type": "code",
   "execution_count": 96,
   "metadata": {},
   "outputs": [
    {
     "name": "stderr",
     "output_type": "stream",
     "text": [
      "/home/sriven/.virtualenvs/ire-mini/lib/python3.7/site-packages/sklearn/linear_model/logistic.py:469: FutureWarning: Default multi_class will be changed to 'auto' in 0.22. Specify the multi_class option to silence this warning.\n",
      "  \"this warning.\", FutureWarning)\n",
      "/home/sriven/.virtualenvs/ire-mini/lib/python3.7/site-packages/sklearn/linear_model/sag.py:337: ConvergenceWarning: The max_iter was reached which means the coef_ did not converge\n",
      "  \"the coef_ did not converge\", ConvergenceWarning)\n"
     ]
    },
    {
     "name": "stdout",
     "output_type": "stream",
     "text": [
      "F1 score:    0.664884276704065\n",
      "Avg Recall:  0.6639189308010199\n",
      "Accuracy:    0.6651053864168618\n"
     ]
    }
   ],
   "source": [
    "vectorizer = embeddings(\"char\")\n",
    "train_features = vectorizer.transform(train_tweets_with_mentions)\n",
    "test_features = vectorizer.transform(test_tweets_with_mentions)\n",
    "classifier = model(\"LR\", 0.1, None)\n",
    "task_type(\"AD\")"
   ]
  },
  {
   "cell_type": "markdown",
   "metadata": {},
   "source": [
    "## Word Level and SVM"
   ]
  },
  {
   "cell_type": "markdown",
   "metadata": {},
   "source": [
    "Without Mentions"
   ]
  },
  {
   "cell_type": "code",
   "execution_count": 97,
   "metadata": {},
   "outputs": [
    {
     "name": "stdout",
     "output_type": "stream",
     "text": [
      "F1 score:    0.7041761259666591\n",
      "Avg Recall:  0.7030247076409039\n",
      "Accuracy:    0.7072599531615925\n"
     ]
    }
   ],
   "source": [
    "vectorizer = embeddings(\"word\")\n",
    "train_features = vectorizer.transform(train_tweets)\n",
    "test_features = vectorizer.transform(test_tweets)\n",
    "classifier = model(\"SVM\", 100, 0.001)\n",
    "task_type(\"AD\")"
   ]
  },
  {
   "cell_type": "markdown",
   "metadata": {},
   "source": [
    "With Mentions"
   ]
  },
  {
   "cell_type": "code",
   "execution_count": 98,
   "metadata": {},
   "outputs": [
    {
     "name": "stdout",
     "output_type": "stream",
     "text": [
      "F1 score:    0.6874528426386869\n",
      "Avg Recall:  0.6864943286731733\n",
      "Accuracy:    0.6908665105386417\n"
     ]
    }
   ],
   "source": [
    "vectorizer = embeddings(\"word\")\n",
    "train_features = vectorizer.transform(train_tweets_with_mentions)\n",
    "test_features = vectorizer.transform(test_tweets_with_mentions)\n",
    "classifier = model(\"SVM\", 100, 0.001)\n",
    "task_type(\"AD\")"
   ]
  },
  {
   "cell_type": "markdown",
   "metadata": {},
   "source": [
    "## Char Level and SVM"
   ]
  },
  {
   "cell_type": "markdown",
   "metadata": {},
   "source": [
    "Without Mentions"
   ]
  },
  {
   "cell_type": "code",
   "execution_count": 99,
   "metadata": {},
   "outputs": [
    {
     "name": "stdout",
     "output_type": "stream",
     "text": [
      "F1 score:    0.6652486819897004\n",
      "Avg Recall:  0.6657983821331224\n",
      "Accuracy:    0.6651053864168618\n"
     ]
    }
   ],
   "source": [
    "vectorizer = embeddings(\"char\")\n",
    "train_features = vectorizer.transform(train_tweets)\n",
    "test_features = vectorizer.transform(test_tweets)\n",
    "classifier = model(\"SVM\", 100, 0.001)\n",
    "task_type(\"AD\")"
   ]
  },
  {
   "cell_type": "markdown",
   "metadata": {},
   "source": [
    "With Mentions"
   ]
  },
  {
   "cell_type": "code",
   "execution_count": 100,
   "metadata": {},
   "outputs": [
    {
     "name": "stdout",
     "output_type": "stream",
     "text": [
      "F1 score:    0.6697892271662763\n",
      "Avg Recall:  0.6711179987690143\n",
      "Accuracy:    0.6697892271662763\n"
     ]
    }
   ],
   "source": [
    "vectorizer = embeddings(\"char\")\n",
    "train_features = vectorizer.transform(train_tweets_with_mentions)\n",
    "test_features = vectorizer.transform(test_tweets_with_mentions)\n",
    "classifier = model(\"SVM\", 100, 0.001)\n",
    "task_type(\"AD\")"
   ]
  }
 ],
 "metadata": {
  "kernelspec": {
   "display_name": "Python 3",
   "language": "python",
   "name": "python3"
  },
  "language_info": {
   "codemirror_mode": {
    "name": "ipython",
    "version": 3
   },
   "file_extension": ".py",
   "mimetype": "text/x-python",
   "name": "python",
   "nbconvert_exporter": "python",
   "pygments_lexer": "ipython3",
   "version": "3.7.4"
  }
 },
 "nbformat": 4,
 "nbformat_minor": 2
}
